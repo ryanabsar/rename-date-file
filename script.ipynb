{
 "cells": [
  {
   "cell_type": "code",
   "execution_count": 10,
   "id": "72265e49-e8d1-479c-96c9-3fcb101aa956",
   "metadata": {},
   "outputs": [],
   "source": [
    "import os\n",
    "import re\n",
    "from datetime import datetime"
   ]
  },
  {
   "cell_type": "code",
   "execution_count": 11,
   "id": "1e543c3f-b98b-43fc-acb7-15b9bfe79e76",
   "metadata": {},
   "outputs": [],
   "source": [
    "def rename_files_with_date_suffix(directory):\n",
    "    date_suffix_pattern = re.compile(r'(\\d{2})(\\d{2})(\\d{2,4})_') #Regex pattern ddmmyy_ || ddmmyyyy_\n",
    "\n",
    "    for filename in os.listdir(directory):\n",
    "        match = date_suffix_pattern.match(filename)\n",
    "        if match:\n",
    "            # Extract date components\n",
    "            day, month, year = match.groups()\n",
    "\n",
    "            # Determine the date format\n",
    "            if len(year) == 2:\n",
    "                date_format = \"%d%m%y\"\n",
    "            else:\n",
    "                date_format = \"%d%m%Y\"\n",
    "\n",
    "            # Convert to datetime object\n",
    "            try:\n",
    "                date_obj = datetime.strptime(day + month + year, date_format)\n",
    "            except ValueError:\n",
    "                print(f\"Invalid date format in filename: {filename}\")\n",
    "                continue\n",
    "\n",
    "            # Format the date as yymmdd_\n",
    "            new_prefix = date_obj.strftime(\"%y%m%d\") + \"_\"\n",
    "            \n",
    "            # Rename the file\n",
    "            new_filename = new_prefix + filename[len(match.group(0)):]\n",
    "            os.rename(os.path.join(directory, filename), os.path.join(directory, new_filename))\n",
    "            print(f\"Renamed {filename} to {new_filename}\")"
   ]
  },
  {
   "cell_type": "code",
   "execution_count": 12,
   "id": "50a27bda-9ebd-45f5-a257-655102ee56f2",
   "metadata": {},
   "outputs": [
    {
     "name": "stdout",
     "output_type": "stream",
     "text": [
      "Renamed 030424_Land Use Classification to 240403_Land Use Classification\n",
      "Renamed 060324_Email from Paul Project ID to Plot ID to 240306_Email from Paul Project ID to Plot ID\n",
      "Renamed 110324_Email from Paul WS Plot ID to 240311_Email from Paul WS Plot ID\n",
      "Renamed 180324_Plot Project Mapping to 240318_Plot Project Mapping\n",
      "Renamed 180324_Utility Demands to 240318_Utility Demands\n",
      "Renamed 240213_BuroHappold Phase II to 130224_BuroHappold Phase II\n",
      "Renamed 240414_Population Data to 140424_Population Data\n"
     ]
    }
   ],
   "source": [
    "# Provide the directory path where your files are located\n",
    "directory_path = r\"C:\\Users\\rilmi\\OneDrive - Buro Happold\\Documents\\1_Project\\3_DGCL\\Incoming\\DGCL\"\n",
    "rename_files_with_date_suffix(directory_path)"
   ]
  },
  {
   "cell_type": "code",
   "execution_count": null,
   "id": "10d81b33-67dc-43fc-b40b-633ee9f6d891",
   "metadata": {},
   "outputs": [],
   "source": []
  }
 ],
 "metadata": {
  "kernelspec": {
   "display_name": "py310",
   "language": "python",
   "name": "py310"
  },
  "language_info": {
   "codemirror_mode": {
    "name": "ipython",
    "version": 3
   },
   "file_extension": ".py",
   "mimetype": "text/x-python",
   "name": "python",
   "nbconvert_exporter": "python",
   "pygments_lexer": "ipython3",
   "version": "3.10.14"
  }
 },
 "nbformat": 4,
 "nbformat_minor": 5
}
