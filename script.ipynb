{
 "cells": [
  {
   "cell_type": "code",
   "execution_count": 1,
   "id": "72265e49-e8d1-479c-96c9-3fcb101aa956",
   "metadata": {},
   "outputs": [],
   "source": [
    "import os\n",
    "import re\n",
    "from datetime import datetime"
   ]
  },
  {
   "cell_type": "code",
   "execution_count": 3,
   "id": "1e543c3f-b98b-43fc-acb7-15b9bfe79e76",
   "metadata": {},
   "outputs": [],
   "source": [
    "def rename_files_with_date_suffix(directory):\n",
    "    date_suffix_pattern = re.compile(r'(\\d{2})(\\d{2})(\\d{2,4})_') #Regex pattern ddmmyy_ || ddmmyyyy_\n",
    "\n",
    "    for filename in os.listdir(directory):\n",
    "        match = date_suffix_pattern.match(filename)\n",
    "        if match:\n",
    "            # Extract date components\n",
    "            day, month, year = match.groups()\n",
    "\n",
    "            # Determine the date format\n",
    "            if len(year) == 2:\n",
    "                date_format = \"%d%m%y\"\n",
    "            else:\n",
    "                date_format = \"%d%m%Y\"\n",
    "\n",
    "            # Convert to datetime object\n",
    "            try:\n",
    "                date_obj = datetime.strptime(day + month + year, date_format)\n",
    "            except ValueError:\n",
    "                print(f\"Invalid date format in filename: {filename}\")\n",
    "                continue\n",
    "\n",
    "            # Format the date as yymmdd_\n",
    "            new_prefix = date_obj.strftime(\"%y%m%d\") + \"_\"\n",
    "            \n",
    "            # Rename the file\n",
    "            new_filename = new_prefix + filename[len(match.group(0)):]\n",
    "            os.rename(os.path.join(directory, filename), os.path.join(directory, new_filename))\n",
    "            print(f\"Renamed {filename} to {new_filename}\")"
   ]
  },
  {
   "cell_type": "code",
   "execution_count": 4,
   "id": "50a27bda-9ebd-45f5-a257-655102ee56f2",
   "metadata": {},
   "outputs": [
    {
     "name": "stdout",
     "output_type": "stream",
     "text": [
      "Renamed 220324_Plot-Project-Information-v4.xlsx to 240322_Plot-Project-Information-v4.xlsx\n",
      "Renamed 060324_DG1_LU Dataset_V2_WIP.xlsx to 240306_DG1_LU Dataset_V2_WIP.xlsx\n",
      "Renamed 220324_Plot-Project-Information-v5.xlsx to 240322_Plot-Project-Information-v5.xlsx\n",
      "Renamed 220324_Plot-Project-Information-v5-JAK-2DSZNL3.xlsx to 240322_Plot-Project-Information-v5-JAK-2DSZNL3.xlsx\n",
      "Renamed 160224_DG2 Plot GIS Data.xlsx to 240216_DG2 Plot GIS Data.xlsx\n",
      "Renamed 160224_GIS Data Check_RI.xlsm to 240216_GIS Data Check_RI.xlsm\n",
      "Renamed 260324_Infrastructure Master Utility Demands Analysis.xlsx to 240326_Infrastructure Master Utility Demands Analysis.xlsx\n",
      "Renamed 160224_WS Plot GIS Data.qmd to 240216_WS Plot GIS Data.qmd\n",
      "Renamed 160224_DG1 Plot GIS Data.xlsx to 240216_DG1 Plot GIS Data.xlsx\n",
      "Renamed 160224_WS Plot GIS Data.xlsx to 240216_WS Plot GIS Data.xlsx\n",
      "Renamed 160224_DG2 Plot GIS Data.qmd to 240216_DG2 Plot GIS Data.qmd\n",
      "Renamed 030424_BH Analysis-DG_LandUseClass-MP Align_Rev03.xlsx to 240403_BH Analysis-DG_LandUseClass-MP Align_Rev03.xlsx\n",
      "Renamed 270324_Land Use Level Comparison.xlsx to 240327_Land Use Level Comparison.xlsx\n",
      "Renamed 140324_Plot-Project Information v2.xlsx to 240314_Plot-Project Information v2.xlsx\n",
      "Renamed 060224_DG1_GIS Attributes Comparison.xlsx to 240206_DG1_GIS Attributes Comparison.xlsx\n",
      "Renamed 230224_Project and Plot Modification Flow Diagram.pptx to 240223_Project and Plot Modification Flow Diagram.pptx\n",
      "Renamed 160224_DG1 Plot GIS Data.qmd to 240216_DG1 Plot GIS Data.qmd\n"
     ]
    }
   ],
   "source": [
    "# Provide the directory path where your files are located\n",
    "directory_path = \"/Users/ryanabsar/Library/CloudStorage/OneDrive-BuroHappold/Documents/1_Project/3_DGCL/Documents/2_Plot-Project Information\"\n",
    "rename_files_with_date_suffix(directory_path)"
   ]
  },
  {
   "cell_type": "code",
   "execution_count": null,
   "id": "10d81b33-67dc-43fc-b40b-633ee9f6d891",
   "metadata": {},
   "outputs": [],
   "source": []
  }
 ],
 "metadata": {
  "kernelspec": {
   "display_name": "Python 3 (ipykernel)",
   "language": "python",
   "name": "python3"
  },
  "language_info": {
   "codemirror_mode": {
    "name": "ipython",
    "version": 3
   },
   "file_extension": ".py",
   "mimetype": "text/x-python",
   "name": "python",
   "nbconvert_exporter": "python",
   "pygments_lexer": "ipython3",
   "version": "3.11.5"
  }
 },
 "nbformat": 4,
 "nbformat_minor": 5
}
