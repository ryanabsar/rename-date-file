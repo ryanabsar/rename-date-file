{
 "cells": [
  {
   "cell_type": "code",
   "execution_count": 1,
   "id": "72265e49-e8d1-479c-96c9-3fcb101aa956",
   "metadata": {},
   "outputs": [],
   "source": [
    "import os\n",
    "import re\n",
    "from datetime import datetime"
   ]
  },
  {
   "cell_type": "code",
   "execution_count": null,
   "id": "1e543c3f-b98b-43fc-acb7-15b9bfe79e76",
   "metadata": {},
   "outputs": [],
   "source": [
    "def rename_files_with_date_suffix(directory):\n",
    "    date_suffix_pattern = re.compile(r'(\\d{2})(\\d{2})(\\d{2,4})_') #Regex pattern ddmmyy_ || ddmmyyyy_\n",
    "\n",
    "    for filename in os.listdir(directory):\n",
    "        # Check if the filename matches the date suffix pattern\n",
    "        match = date_suffix_pattern.match(filename)\n",
    "        if match:\n",
    "            # Extract date components\n",
    "            day, month, year = match.groups()\n",
    "\n",
    "            # Determine the date format\n",
    "            if len(year) == 2:\n",
    "                date_format = \"%d%m%y\"\n",
    "            else:\n",
    "                date_format = \"%d%m%Y\"\n",
    "\n",
    "            # Convert to datetime object\n",
    "            try:\n",
    "                date_obj = datetime.strptime(day + month + year, date_format)\n",
    "            except ValueError:\n",
    "                print(f\"Invalid date format in filename: {filename}\")\n",
    "                continue\n",
    "\n",
    "            # Format the date as yymmdd_\n",
    "            new_prefix = date_obj.strftime(\"%y%m%d\") + \"_\"\n",
    "            \n",
    "            # Rename the file\n",
    "            new_filename = new_prefix + filename[len(match.group(0)):]\n",
    "            os.rename(os.path.join(directory, filename), os.path.join(directory, new_filename))\n",
    "            print(f\"Renamed {filename} to {new_filename}\")"
   ]
  },
  {
   "cell_type": "code",
   "execution_count": null,
   "id": "50a27bda-9ebd-45f5-a257-655102ee56f2",
   "metadata": {},
   "outputs": [],
   "source": [
    "# Provide the directory path where your files are located\n",
    "directory_path = \"/Users/ryanabsar/Library/CloudStorage/OneDrive-BuroHappold/Documents/1_Project/3_DGCL/Documents/2_Plot-Project Information\"\n",
    "rename_files_with_date_suffix(directory_path)"
   ]
  }
 ],
 "metadata": {
  "kernelspec": {
   "display_name": "Python 3 (ipykernel)",
   "language": "python",
   "name": "python3"
  },
  "language_info": {
   "codemirror_mode": {
    "name": "ipython",
    "version": 3
   },
   "file_extension": ".py",
   "mimetype": "text/x-python",
   "name": "python",
   "nbconvert_exporter": "python",
   "pygments_lexer": "ipython3",
   "version": "3.11.5"
  }
 },
 "nbformat": 4,
 "nbformat_minor": 5
}
